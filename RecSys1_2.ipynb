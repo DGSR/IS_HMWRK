{
 "cells": [
  {
   "cell_type": "code",
   "execution_count": 14,
   "metadata": {},
   "outputs": [
    {
     "name": "stdin",
     "output_type": "stream",
     "text": [
      "Enter User ID: 3\n"
     ]
    },
    {
     "name": "stdout",
     "output_type": "stream",
     "text": [
      "Estimating biases using als...\n",
      "Computing the cosine similarity matrix...\n",
      "Done computing similarity matrix.\n",
      "User 3\n",
      "1536 ('Aiqing wansui (1994)', '22-Jul-1996')                      4.99\n",
      "814  ('Great Day in Harlem, A (1994)', '01-Jan-1994')             4.939\n",
      "613  ('My Man Godfrey (1936)', '01-Jan-1936')                     4.742\n",
      "1491 ('Tough and Deadly (1995)', '01-Jan-1995')                   4.706\n",
      "1500 ('Santa with Muscles (1996)', '08-Nov-1996')                 4.665\n"
     ]
    }
   ],
   "source": [
    "import io\n",
    "from collections import defaultdict\n",
    "from surprise import KNNBaseline\n",
    "from surprise import Dataset\n",
    "from surprise import get_dataset_dir\n",
    "\n",
    "input_user=input(\"Enter User ID:\")\n",
    "\n",
    "\n",
    "def get_items():\n",
    "    file_name = get_dataset_dir() + '/ml-100k/ml-100k/u.item'\n",
    "    rid_to_name = {}\n",
    "    with io.open(file_name, 'r', encoding='ISO-8859-1') as f:\n",
    "        for line in f:\n",
    "            line = line.split('|')\n",
    "            rid_to_name[line[0]] = (line[1], line[2])\n",
    "    return rid_to_name\n",
    "\n",
    "\n",
    "data = Dataset.load_builtin('ml-100k')\n",
    "trainset = data.build_full_trainset()\n",
    "algo = KNNBaseline(k=4,sim_options={'name':'cosine','user_base':True,'min_support':5})\n",
    "algo.fit(trainset)\n",
    "\n",
    "testset = trainset.build_anti_testset()\n",
    "testset = filter(lambda x: x[0] == input_user, testset)\n",
    "predictions = algo.test(testset)\n",
    "\n",
    "top_n = defaultdict(list)\n",
    "for uid, iid, _, est, _ in predictions:\n",
    "    top_n[uid].append((iid, round(est,3)))\n",
    "\n",
    "for uid, user_ratings in top_n.items():\n",
    "    user_ratings.sort(key=lambda x: x[1], reverse=True)\n",
    "    top_n[uid] = user_ratings[:5]\n",
    "    \n",
    "item_map=get_items()\n",
    "        \n",
    "# Print the recommended items for each user\n",
    "print('User ' + input_user)\n",
    "for movie_rid, rating in top_n[input_user]:\n",
    "    print('{:4s} {:<60s} {}'.format(movie_rid, str(item_map[movie_rid]), rating))"
   ]
  },
  {
   "cell_type": "code",
   "execution_count": null,
   "metadata": {},
   "outputs": [],
   "source": []
  }
 ],
 "metadata": {
  "kernelspec": {
   "display_name": "Python 3",
   "language": "python",
   "name": "python3"
  },
  "language_info": {
   "codemirror_mode": {
    "name": "ipython",
    "version": 3
   },
   "file_extension": ".py",
   "mimetype": "text/x-python",
   "name": "python",
   "nbconvert_exporter": "python",
   "pygments_lexer": "ipython3",
   "version": "3.7.4"
  }
 },
 "nbformat": 4,
 "nbformat_minor": 4
}
