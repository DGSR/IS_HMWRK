{
 "cells": [
  {
   "cell_type": "markdown",
   "metadata": {},
   "source": [
    "Квадраты всех четных чисел (используя map и filter)"
   ]
  },
  {
   "cell_type": "code",
   "execution_count": 27,
   "metadata": {},
   "outputs": [
    {
     "name": "stdin",
     "output_type": "stream",
     "text": [
      "input number of square elements 10\n"
     ]
    },
    {
     "name": "stdout",
     "output_type": "stream",
     "text": [
      "0\n",
      "4\n",
      "16\n",
      "36\n",
      "64\n",
      "100\n",
      "144\n",
      "196\n",
      "256\n",
      "324\n",
      "400\n"
     ]
    }
   ],
   "source": [
    "from itertools import count\n",
    "\n",
    "inputNumber=int(input(\"input number of square elements\"))*2\n",
    "\n",
    "def even(n):\n",
    "    return True if n%2==0 else False \n",
    "\n",
    "def squares(n,k):\n",
    "    return n*k\n",
    "\n",
    "for i in map(squares,filter(even,count(0,1)),filter(even,count(0,1))):\n",
    "    if i > inputNumber**2:\n",
    "        break\n",
    "    print(i)"
   ]
  },
  {
   "cell_type": "markdown",
   "metadata": {},
   "source": [
    "Дана входная строка и массив чисел, необходимо вернуть строку с теми буквами,\n",
    "которые стоят на указанных местах (два варианта, используя и не используя list comprehensions)"
   ]
  },
  {
   "cell_type": "code",
   "execution_count": 46,
   "metadata": {},
   "outputs": [
    {
     "name": "stdout",
     "output_type": "stream",
     "text": [
      "смп\n",
      "смп\n"
     ]
    }
   ],
   "source": [
    "string=\"Всем привет\"\n",
    "arr=[1, 3, 5]\n",
    "\n",
    "print(\"\".join([string[i] for i in arr]))\n",
    "\n",
    "def iterString(x):\n",
    "    return string[x]\n",
    "a=\"\"\n",
    "for i in map(iterString,arr):\n",
    "    a=a+i\n",
    "print(a)"
   ]
  },
  {
   "cell_type": "markdown",
   "metadata": {},
   "source": [
    "Дан текст (предложения разделены только точками), в котором буквы могут находиться в разных регистрах.\n",
    "Необходимо вернуть текст, в котором все буквы в нижнем регистре, а первые буквы каждого предложения – в верхнем. "
   ]
  },
  {
   "cell_type": "code",
   "execution_count": 53,
   "metadata": {},
   "outputs": [
    {
     "name": "stdout",
     "output_type": "stream",
     "text": [
      "Чу ашу бона.Ку цено и.Ата це ато\n"
     ]
    }
   ],
   "source": [
    "text=\"чу АшУ бона.кУ цЕно И.Ата цЕ АТО\"\n",
    "\n",
    "print(\".\".join([i[0].upper()+i[1:].lower() for i in text.split('.')]))"
   ]
  },
  {
   "cell_type": "markdown",
   "metadata": {},
   "source": [
    "Cоздайте функцию pipeline_each, в которую вы будете подавать итерируемый объект и список функций,\n",
    "которые последовательно надо к нему применить. "
   ]
  },
  {
   "cell_type": "code",
   "execution_count": 63,
   "metadata": {},
   "outputs": [
    {
     "name": "stdout",
     "output_type": "stream",
     "text": [
      "HeY, cHeCk oUt tHe vIeW. nOtHiNg's tHeRe\n"
     ]
    }
   ],
   "source": [
    "from functools import reduce\n",
    "\n",
    "string=\"Hey, check out the view!\"\n",
    "\n",
    "def removeLastLetter(s):\n",
    "    return s[:-1]\n",
    "\n",
    "def addText(s):\n",
    "    return s+\". NoThiNg's tHerE\"\n",
    "\n",
    "def textChanger(s):\n",
    "    return \"\".join([s[i].upper() if int(i)%2==0 else s[i].lower() for i,_ in enumerate(s)])\n",
    "\n",
    "functionList=[string,removeLastLetter,addText,textChanger]\n",
    "\n",
    "def pipeline_each(string,function):\n",
    "    return reduce(lambda x,y:y(x),functionList)\n",
    "\n",
    "print(pipeline_each(string,functionList))"
   ]
  },
  {
   "cell_type": "markdown",
   "metadata": {},
   "source": [
    "Написать генератор, возвращающий по очереди все слова, входящие в предложение."
   ]
  },
  {
   "cell_type": "code",
   "execution_count": 72,
   "metadata": {},
   "outputs": [
    {
     "name": "stdout",
     "output_type": "stream",
     "text": [
      "обновляет\n",
      "функцию\n",
      "оболочку\n",
      "чтобы\n",
      "она\n",
      "стала\n",
      "похожей\n",
      "на\n",
      "обёрнутую\n",
      "функцию\n"
     ]
    }
   ],
   "source": [
    "text=\"обновляет функцию оболочку чтобы она стала похожей на обёрнутую функцию\"\n",
    "\n",
    "a=(i for i in text.split(\" \"))\n",
    "for i in a:\n",
    "    print(i)"
   ]
  },
  {
   "cell_type": "markdown",
   "metadata": {},
   "source": [
    "Написать генератор псевдо случайных чисел"
   ]
  },
  {
   "cell_type": "code",
   "execution_count": 86,
   "metadata": {},
   "outputs": [
    {
     "name": "stdout",
     "output_type": "stream",
     "text": [
      "6.0\n",
      "9.0\n",
      "30.0\n",
      "45.0\n",
      "270.0\n",
      "405.0\n"
     ]
    }
   ],
   "source": [
    "str=314159265358979323846264338327950288419716939937510582097494459230781640628620899862803482534211706798214808651328230664709384460955058223172535940812848111745028410270193852110555964462294895493038196\n",
    "\n",
    "def gen(seed):\n",
    "    t=seed\n",
    "    while True:\n",
    "        t*=str/t%10+1\n",
    "        yield t\n",
    "\n",
    "a=gen(2)\n",
    "b=gen(3)\n",
    "print(next(a))\n",
    "print(next(b))\n",
    "print(next(a))\n",
    "print(next(b))\n",
    "print(next(a))\n",
    "print(next(b))"
   ]
  },
  {
   "cell_type": "markdown",
   "metadata": {},
   "source": [
    "Написать корутину, которая реализует бесконечную арифметическую прогрессию с возможностью перезапуска с любого места (3, 4, 5, 6, send(30), 31, 32, 33, …)"
   ]
  },
  {
   "cell_type": "code",
   "execution_count": null,
   "metadata": {},
   "outputs": [],
   "source": [
    "from itertools import count\n",
    "\n",
    "def counter():\n",
    "    counter=0\n",
    "    while True:\n",
    "        temp = yield counter\n",
    "        if temp is None:\n",
    "            counter+=1\n",
    "        else:\n",
    "            counter=temp          \n",
    "\n",
    "a=counter()\n",
    "next(a)\n",
    "a.send(2)\n",
    "print(next(a))\n",
    "print(next(a))\n",
    "print(next(a))\n",
    "print(next(a))\n",
    "a.send(30)\n",
    "print(next(a))\n",
    "print(next(a))\n",
    "print(next(a))"
   ]
  }
 ],
 "metadata": {
  "kernelspec": {
   "display_name": "Python 3",
   "language": "python",
   "name": "python3"
  },
  "language_info": {
   "codemirror_mode": {
    "name": "ipython",
    "version": 3
   },
   "file_extension": ".py",
   "mimetype": "text/x-python",
   "name": "python",
   "nbconvert_exporter": "python",
   "pygments_lexer": "ipython3",
   "version": "3.7.4"
  }
 },
 "nbformat": 4,
 "nbformat_minor": 4
}
