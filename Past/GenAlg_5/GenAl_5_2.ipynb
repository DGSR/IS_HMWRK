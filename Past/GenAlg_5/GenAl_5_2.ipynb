{
 "cells": [
  {
   "cell_type": "markdown",
   "metadata": {},
   "source": [
    "Начальная популяция - Случайная генерация<br>\n",
    "Отбор - 20% приспособленных<br>\n",
    "Мутация - инвертирование битов<br>\n",
    "Скрещивание - однородное (каждый бит от случайно выбранного родителя)<br>\n",
    "Новая популяция - замена своих родителей"
   ]
  },
  {
   "cell_type": "code",
   "execution_count": 54,
   "metadata": {},
   "outputs": [],
   "source": [
    "from numpy import genfromtxt\n",
    "import random\n",
    "from random import choice, randint"
   ]
  },
  {
   "cell_type": "code",
   "execution_count": 55,
   "metadata": {},
   "outputs": [
    {
     "name": "stdout",
     "output_type": "stream",
     "text": [
      "13000 12.0\n"
     ]
    }
   ],
   "source": [
    "def get_data():\n",
    "    with open('5.txt') as f:\n",
    "        settings = f.readline().split(' ')\n",
    "    max_weight = int(settings[0])\n",
    "    max_volume = int(settings[1])\n",
    "    data = genfromtxt('5.txt', delimiter=' ', dtype=(int, float, int), skip_header=1)\n",
    "    return {\n",
    "        'max_weight': int(max_weight),\n",
    "        'max_volume': float(max_volume),\n",
    "        'items': data.tolist()\n",
    "    }\n",
    "\n",
    "data = get_data()\n",
    "\n",
    "items = sorted(data['items'], key=lambda x: x[2], reverse=True)\n",
    "\n",
    "max_w = data['max_weight']\n",
    "max_v = data['max_volume']\n",
    "print(max_w, max_v)\n",
    "\n",
    "n = 200\n",
    "generations = 500"
   ]
  },
  {
   "cell_type": "markdown",
   "metadata": {},
   "source": [
    "Начальная популяция - Случайная генерация"
   ]
  },
  {
   "cell_type": "code",
   "execution_count": 56,
   "metadata": {},
   "outputs": [
    {
     "name": "stdout",
     "output_type": "stream",
     "text": [
      "200\n"
     ]
    }
   ],
   "source": [
    "def generate(item):\n",
    "    individ = \"\"\n",
    "    wei = val = vol = 0\n",
    "    for i in range(len(item)):\n",
    "        ind = random.randint(0, 1)\n",
    "        if (ind):\n",
    "            wei += item[i][0]\n",
    "            vol += item[i][1]\n",
    "            val += item[i][2]\n",
    "            \n",
    "        individ += str(ind)\n",
    "    return {\"gen\": individ, \"wei\": wei, \"vol\": vol, \"val\": val}\n",
    "\n",
    "population = []\n",
    "for i in range(n):\n",
    "    population.append(generate(items))\n",
    "print(len(population))"
   ]
  },
  {
   "cell_type": "markdown",
   "metadata": {},
   "source": [
    "Отбор - 20% приспособленных"
   ]
  },
  {
   "cell_type": "code",
   "execution_count": 57,
   "metadata": {},
   "outputs": [],
   "source": [
    "def fitness(ind):\n",
    "    summ_val = summ_vol = summ_wei = 0\n",
    "    for i in range(len(items)):\n",
    "        summ_wei += float(ind[i])*items[i][0]\n",
    "        summ_vol += float(ind[i])*items[i][1]\n",
    "        summ_val += float(ind[i])*items[i][2]\n",
    "        if summ_vol<=max_v and summ_wei<=max_w:\n",
    "            price = summ_val\n",
    "        else:\n",
    "            price=0\n",
    "    return price\n",
    "\n",
    "\n",
    "def selection(population, s=20):\n",
    "    percent = int(len(population) * s / 100) \n",
    "    population = sorted(population, key = lambda i: i['val'],reverse=True)\n",
    "    \n",
    "    select = []\n",
    "    not_select = []\n",
    "    count = 0\n",
    "                      \n",
    "    for i in population:\n",
    "        if (fitness(i['gen']) == 0):\n",
    "            not_select.append(i)\n",
    "        elif(count < percent):\n",
    "            select.append(i)\n",
    "            count += 1\n",
    "        else:\n",
    "            not_select.append(i)            \n",
    "    return  select,not_select\n"
   ]
  },
  {
   "cell_type": "markdown",
   "metadata": {},
   "source": [
    "Мутация - инвертирование битов"
   ]
  },
  {
   "cell_type": "code",
   "execution_count": 58,
   "metadata": {},
   "outputs": [],
   "source": [
    "def mutate(ind):\n",
    "    newChromo = ''\n",
    "    for i in ind:\n",
    "        if i=='0':\n",
    "            gen = '1'\n",
    "        else:\n",
    "            gen = '0'\n",
    "        newChromo += gen\n",
    "    return {'gen': newChromo, 'wei': 0,  'vol': 0, 'val':0}"
   ]
  },
  {
   "cell_type": "markdown",
   "metadata": {},
   "source": [
    "Скрещивание (кроссинговер) между выбранными особями. Каждая особь скрещивается 1 раз за 1 поколение, 1 пара дает 2 потомка : однородный (каждый бит от случайно выбранного родителя)"
   ]
  },
  {
   "cell_type": "code",
   "execution_count": 59,
   "metadata": {},
   "outputs": [],
   "source": [
    "def crossingover(parent1, parent2):\n",
    "    parents = [parent1, parent2]\n",
    "    childs = []\n",
    "    for c in range(2):\n",
    "        mask = []\n",
    "        for i in range(len(parent1)):\n",
    "            mask.append(random.randrange(2))\n",
    "        child = ''\n",
    "        j = 0\n",
    "        for i in mask:\n",
    "            child += parents[i][j]\n",
    "            j += 1\n",
    "        childs.append(child)\n",
    "    return childs\n",
    "\n",
    "def getOffspring(indToCross):\n",
    "    offspring =[]\n",
    "    while indToCross!=[]:\n",
    "        ind1 = choice(indToCross)\n",
    "        indToCross.remove(ind1)\n",
    "        ind2 = choice(indToCross)\n",
    "        indToCross.remove(ind2)\n",
    "        childs= crossingover(ind1['gen'], ind2['gen'])\n",
    "        offspring.append({'gen': childs[0], 'wei': 0,  'vol': 0, 'val':0})\n",
    "        offspring.append({'gen': childs[1], 'wei': 0,  'vol': 0, 'val':0})\n",
    "    mutInd = choice(offspring)\n",
    "    offspring.remove(mutInd)\n",
    "    offspring.append(mutate(mutInd['gen']))\n",
    "    return offspring"
   ]
  },
  {
   "cell_type": "markdown",
   "metadata": {},
   "source": [
    "Новая популяция - замена своих родителей"
   ]
  },
  {
   "cell_type": "code",
   "execution_count": 60,
   "metadata": {},
   "outputs": [],
   "source": [
    "def calcFitness(ind):\n",
    "    summ_val = summ_vol = summ_wei = 0\n",
    "    for i in range(len(items)):\n",
    "        summ_wei += float(ind[i])*items[i][0]\n",
    "        summ_vol += float(ind[i])*items[i][1]\n",
    "        summ_val += float(ind[i])*items[i][2]\n",
    "        if summ_vol<=max_v and summ_wei<=max_w:\n",
    "            price = summ_val\n",
    "        else:\n",
    "            price=0\n",
    "    \n",
    "    return {'gen': ind, 'wei': summ_wei, 'vol': summ_vol, 'val': price}"
   ]
  },
  {
   "cell_type": "code",
   "execution_count": 61,
   "metadata": {},
   "outputs": [
    {
     "name": "stdout",
     "output_type": "stream",
     "text": [
      "3867\n",
      "12.0\n",
      "11649\n"
     ]
    }
   ],
   "source": [
    "for i in range(generations):\n",
    "    \n",
    "    sel, not_sel  = selection(population)\n",
    "    offspring = getOffspring(sel)\n",
    "   \n",
    "    for i in offspring:\n",
    "        not_sel.append(calcFitness(i[\"gen\"]))\n",
    "    \n",
    "sel, not_sel = selection(population)\n",
    "population = sorted(sel, key = lambda i: i['val'],reverse=True)\n",
    "print(population[0]['val'])\n",
    "print(population[0]['vol'])\n",
    "print(population[0]['wei'])"
   ]
  },
  {
   "cell_type": "code",
   "execution_count": 62,
   "metadata": {},
   "outputs": [
    {
     "name": "stdout",
     "output_type": "stream",
     "text": [
      "{'gen': '011111100000011110011000001001', 'wei': 11649, 'vol': 12.0, 'val': 3867}\n",
      "{'gen': '111001101010000101000110011010', 'wei': 12994, 'vol': 11.6, 'val': 3739}\n",
      "{'gen': '111110000101100010000001011101', 'wei': 12520, 'vol': 11.7, 'val': 3704}\n",
      "{'gen': '001101101011101000000011011010', 'wei': 12811, 'vol': 11.6, 'val': 3675}\n",
      "{'gen': '100110010111100000100111000010', 'wei': 10393, 'vol': 11.899999999999999, 'val': 3516}\n",
      "{'gen': '010010110111101000010010000101', 'wei': 11800, 'vol': 10.0, 'val': 3515}\n",
      "{'gen': '011000010011011101010010001101', 'wei': 11019, 'vol': 10.999999999999998, 'val': 3482}\n",
      "{'gen': '010100110011000100110011100101', 'wei': 10930, 'vol': 11.700000000000001, 'val': 3447}\n",
      "{'gen': '100111001101000110011010000000', 'wei': 8675, 'vol': 11.499999999999998, 'val': 3434}\n",
      "{'gen': '110100100010010101101100100100', 'wei': 11980, 'vol': 11.7, 'val': 3432}\n",
      "{'gen': '101101100001000100100110110100', 'wei': 11737, 'vol': 11.1, 'val': 3376}\n",
      "{'gen': '101110010100011100000000101010', 'wei': 11429, 'vol': 10.500000000000002, 'val': 3364}\n",
      "{'gen': '001111110100000101000001010001', 'wei': 12482, 'vol': 10.100000000000001, 'val': 3345}\n",
      "{'gen': '100010100010101101101101001000', 'wei': 9995, 'vol': 11.6, 'val': 3338}\n",
      "{'gen': '001100100011111100000011000101', 'wei': 11323, 'vol': 10.5, 'val': 3337}\n",
      "{'gen': '010000011101000111010011101100', 'wei': 11770, 'vol': 11.8, 'val': 3335}\n",
      "{'gen': '110010010011100000110000101110', 'wei': 10934, 'vol': 10.799999999999999, 'val': 3335}\n",
      "{'gen': '001001100100001110100111010101', 'wei': 12025, 'vol': 11.799999999999999, 'val': 3297}\n",
      "{'gen': '100000101011000101010110101011', 'wei': 10868, 'vol': 11.8, 'val': 3255}\n",
      "{'gen': '100011001001011100111000000100', 'wei': 9622, 'vol': 11.399999999999999, 'val': 3255}\n",
      "{'gen': '100000111001111001100010001000', 'wei': 9640, 'vol': 10.2, 'val': 3253}\n",
      "{'gen': '000110001111001001000101011001', 'wei': 11313, 'vol': 11.600000000000001, 'val': 3235}\n",
      "{'gen': '001100100011001011110000100110', 'wei': 11476, 'vol': 11.7, 'val': 3225}\n",
      "{'gen': '001010100100101100010111001010', 'wei': 12135, 'vol': 10.3, 'val': 3214}\n",
      "{'gen': '101110000110100011100000100000', 'wei': 9124, 'vol': 10.0, 'val': 3196}\n",
      "{'gen': '000110110011000000011010010111', 'wei': 10676, 'vol': 11.1, 'val': 3123}\n",
      "{'gen': '000110100111001100000000111001', 'wei': 11561, 'vol': 9.600000000000001, 'val': 3063}\n",
      "{'gen': '001001010001001110011000100111', 'wei': 9981, 'vol': 11.8, 'val': 3056}\n",
      "{'gen': '100001000011100001011101100110', 'wei': 11853, 'vol': 11.6, 'val': 3049}\n",
      "{'gen': '001101110100010000010000111000', 'wei': 11753, 'vol': 8.0, 'val': 3037}\n",
      "{'gen': '100101000101110000011100010000', 'wei': 10894, 'vol': 9.5, 'val': 3030}\n",
      "{'gen': '111001001000001010001100010010', 'wei': 9250, 'vol': 10.9, 'val': 3020}\n",
      "{'gen': '000101001100010111010010110000', 'wei': 11921, 'vol': 10.5, 'val': 3020}\n",
      "{'gen': '000100110110100110000001011100', 'wei': 11041, 'vol': 9.4, 'val': 3016}\n",
      "{'gen': '010100110001001000110000111010', 'wei': 11559, 'vol': 10.2, 'val': 3000}\n",
      "{'gen': '100110100001000100101100001101', 'wei': 8509, 'vol': 10.800000000000002, 'val': 2989}\n",
      "{'gen': '000010001001111000110010110011', 'wei': 11648, 'vol': 11.4, 'val': 2972}\n",
      "{'gen': '001010000010001101101100110110', 'wei': 11744, 'vol': 11.999999999999998, 'val': 2972}\n",
      "{'gen': '001110001011100000101000000011', 'wei': 7564, 'vol': 10.5, 'val': 2959}\n",
      "{'gen': '001011110010001000000010101001', 'wei': 8307, 'vol': 8.4, 'val': 2947}\n"
     ]
    }
   ],
   "source": [
    "for i in population:\n",
    "    print(i)"
   ]
  },
  {
   "cell_type": "code",
   "execution_count": null,
   "metadata": {},
   "outputs": [],
   "source": []
  }
 ],
 "metadata": {
  "kernelspec": {
   "display_name": "Python 3",
   "language": "python",
   "name": "python3"
  },
  "language_info": {
   "codemirror_mode": {
    "name": "ipython",
    "version": 3
   },
   "file_extension": ".py",
   "mimetype": "text/x-python",
   "name": "python",
   "nbconvert_exporter": "python",
   "pygments_lexer": "ipython3",
   "version": "3.7.4"
  }
 },
 "nbformat": 4,
 "nbformat_minor": 4
}
