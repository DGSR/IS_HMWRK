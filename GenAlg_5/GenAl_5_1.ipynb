{
 "cells": [
  {
   "cell_type": "code",
   "execution_count": 35,
   "metadata": {},
   "outputs": [],
   "source": [
    "import math\n",
    "from pyeasyga import pyeasyga\n",
    "from numpy import genfromtxt\n",
    "import json"
   ]
  },
  {
   "cell_type": "code",
   "execution_count": 39,
   "metadata": {},
   "outputs": [],
   "source": [
    "def readFile():\n",
    "    with open('5.txt') as file:\n",
    "       max_weight, max_volume = [float(i) for i in next(file).split()]\n",
    "       data = genfromtxt('5.txt', delimiter=' ', dtype=(int, float, int), skip_header=1)\n",
    "    return {\n",
    "        'w': int(max_weight),\n",
    "        'v': float(max_volume),\n",
    "        'items': data.tolist()\n",
    "}\n",
    "\n",
    "arr = readFile()\n"
   ]
  },
  {
   "cell_type": "code",
   "execution_count": 52,
   "metadata": {},
   "outputs": [
    {
     "name": "stdout",
     "output_type": "stream",
     "text": [
      "(4134, [0, 0, 0, 1, 0, 1, 0, 1, 1, 0, 0, 0, 1, 0, 0, 1, 0, 0, 1, 1, 1, 0, 1, 1, 0, 1, 0, 1, 1, 0])\n"
     ]
    }
   ],
   "source": [
    "ga = pyeasyga.GeneticAlgorithm(arr['items'])\n",
    "ga.population_siz=200\n",
    "\n",
    "def fitness(individual, data):\n",
    "    weight, volume, price = 0, 0, 0\n",
    "    for (selected, item) in zip(individual, data):\n",
    "        if selected:\n",
    "            weight += int(item[0])\n",
    "            volume += float(item[1])\n",
    "            price += int(item[2])\n",
    "    if weight > arr['w'] or volume > arr['v']:\n",
    "        price = 0\n",
    "    return price\n",
    "\n",
    "ga.fitness_function = fitness\n",
    "ga.run()\n",
    "result=ga.best_individual()\n",
    "print(result)"
   ]
  },
  {
   "cell_type": "code",
   "execution_count": 53,
   "metadata": {},
   "outputs": [
    {
     "name": "stdout",
     "output_type": "stream",
     "text": [
      "{'volume': 11.5, 'items': [4, 6, 8, 9, 13, 16, 19, 20, 21, 23, 24, 26, 28, 29], 'price': 4134, 'weight': 12869}\n"
     ]
    }
   ],
   "source": [
    "result_weight = 0\n",
    "result_volume = 0\n",
    "result_price = 0\n",
    "items=[]\n",
    "\n",
    "for i in range(len(result[1])):\n",
    "    if result[1][i] == 1:\n",
    "        items.append(i+1)\n",
    "\n",
    "for i in range(len(items)):\n",
    "    result_volume += arr['items'][items[i]-1][1]\n",
    "    result_weight += arr['items'][items[i]-1][0]\n",
    "    result_price += arr['items'][items[i]-1][2]\n",
    "    \n",
    "res = {\n",
    "    'weight': result_weight,\n",
    "    'volume': result_volume,\n",
    "    'price': result_price,\n",
    "    'items': items\n",
    "}\n",
    "print(res)"
   ]
  },
  {
   "cell_type": "code",
   "execution_count": null,
   "metadata": {},
   "outputs": [],
   "source": []
  }
 ],
 "metadata": {
  "kernelspec": {
   "display_name": "Python 2",
   "language": "python",
   "name": "python2"
  },
  "language_info": {
   "codemirror_mode": {
    "name": "ipython",
    "version": 2
   },
   "file_extension": ".py",
   "mimetype": "text/x-python",
   "name": "python",
   "nbconvert_exporter": "python",
   "pygments_lexer": "ipython2",
   "version": "2.7.17"
  }
 },
 "nbformat": 4,
 "nbformat_minor": 4
}
