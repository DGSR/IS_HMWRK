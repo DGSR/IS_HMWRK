{
 "cells": [
  {
   "cell_type": "code",
   "execution_count": 56,
   "metadata": {},
   "outputs": [
    {
     "name": "stdout",
     "output_type": "stream",
     "text": [
      "Среднее значение User 1 2.952\n",
      "Среднее значение User 2 3.292\n",
      "Среднее значение User 3 2.8\n",
      "Среднее значение User 4 3.143\n",
      "Среднее значение User 5 3.308\n",
      "Среднее значение User 6 3.16\n",
      "Среднее значение User 7 2.88\n",
      "Среднее значение User 8 3.292\n",
      "Среднее значение User 9 2.808\n",
      "Среднее значение User 10 2.72\n",
      "Среднее значение User 11 3.125\n",
      "Среднее значение User 12 3.846\n",
      "Среднее значение User 13 3.154\n",
      "Среднее значение User 14 3.0\n",
      "Среднее значение User 15 3.375\n",
      "Среднее значение User 16 3.407\n",
      "Среднее значение User 17 3.0\n",
      "Среднее значение User 18 2.704\n",
      "Среднее значение User 19 3.125\n",
      "Среднее значение User 20 3.182\n",
      "Среднее значение User 21 2.96\n",
      "Среднее значение User 22 3.217\n",
      "Среднее значение User 23 3.391\n",
      "Среднее значение User 24 2.815\n",
      "Среднее значение User 25 2.76\n",
      "Среднее значение User 26 2.92\n",
      "Среднее значение User 27 3.333\n",
      "Среднее значение User 28 2.923\n",
      "Среднее значение User 29 3.2\n",
      "Среднее значение User 30 2.964\n",
      "Среднее значение User 31 3.074\n",
      "Среднее значение User 32 3.0\n",
      "Среднее значение User 33 2.769\n",
      "Среднее значение User 34 3.042\n",
      "Среднее значение User 35 3.174\n",
      "Среднее значение User 36 3.125\n",
      "Среднее значение User 37 3.25\n",
      "Среднее значение User 38 3.0\n",
      "Среднее значение User 39 2.68\n",
      "Среднее значение User 40 2.963\n",
      "[('User 1', ' Movie 1', 3.5), ('User 1', ' Movie 5', 1.75), ('User 1', ' Movie 6', 2.25), ('User 1', ' Movie 7', 3.5), ('User 1', ' Movie 10', 2.5), ('User 1', ' Movie 17', 1.0), ('User 1', ' Movie 23', 3.75), ('User 1', ' Movie 24', 4.333), ('User 1', ' Movie 27', 2.75), ('User 2', ' Movie 7', 3.7489999999999997), ('User 2', ' Movie 12', 4.25), ('User 2', ' Movie 17', 3.002), ('User 2', ' Movie 21', 2.666), ('User 2', ' Movie 23', 2.2479999999999998), ('User 2', ' Movie 27', 3.251), ('User 3', ' Movie 7', 3.5), ('User 3', ' Movie 12', 2.25), ('User 3', ' Movie 20', 3.0), ('User 3', ' Movie 22', 1.7499999999999998), ('User 3', ' Movie 29', 3.25), ('User 4', ' Movie 2', 3.0029999999999997), ('User 4', ' Movie 4', 4.005), ('User 4', ' Movie 5', 2.667), ('User 4', ' Movie 11', 4.005), ('User 4', ' Movie 12', 5.0), ('User 4', ' Movie 13', 2.993), ('User 4', ' Movie 14', 3.7489999999999997), ('User 4', ' Movie 15', 2.252), ('User 4', ' Movie 21', 2.747), ('User 5', ' Movie 13', 2.355), ('User 5', ' Movie 24', 2.9979999999999998), ('User 5', ' Movie 28', 2.516), ('User 5', ' Movie 30', 2.742), ('User 6', ' Movie 2', 4.5), ('User 6', ' Movie 9', 3.7430000000000003), ('User 6', ' Movie 20', 2.68), ('User 6', ' Movie 22', 3.3280000000000003), ('User 6', ' Movie 25', 2.0), ('User 7', ' Movie 10', 1.666), ('User 7', ' Movie 12', 5.0), ('User 7', ' Movie 17', 2.666), ('User 7', ' Movie 18', 3.668), ('User 7', ' Movie 26', 2.5), ('User 8', ' Movie 1', 2.758), ('User 8', ' Movie 11', 2.9909999999999997), ('User 8', ' Movie 13', 4.006), ('User 8', ' Movie 18', 2.985), ('User 8', ' Movie 21', 3.332), ('User 8', ' Movie 28', 3.509), ('User 9', ' Movie 15', 2.5), ('User 9', ' Movie 16', 4.25), ('User 9', ' Movie 18', 0.9999999999999998), ('User 9', ' Movie 24', 1.6669999999999998), ('User 10', ' Movie 2', 3.338), ('User 10', ' Movie 4', 3.758), ('User 10', ' Movie 11', 4.009), ('User 10', ' Movie 15', 2.998), ('User 10', ' Movie 29', 2.0120000000000005), ('User 11', ' Movie 1', 2.667), ('User 11', ' Movie 3', 2.731), ('User 11', ' Movie 10', 2.0), ('User 11', ' Movie 16', 4.314), ('User 11', ' Movie 17', 1.667), ('User 11', ' Movie 22', 2.358), ('User 12', ' Movie 4', 3.753), ('User 12', ' Movie 6', 3.6670000000000003), ('User 12', ' Movie 11', 3.5020000000000002), ('User 12', ' Movie 20', 3.747), ('User 13', ' Movie 17', 2.0), ('User 13', ' Movie 18', 2.667), ('User 13', ' Movie 24', 3.0), ('User 13', ' Movie 27', 3.247), ('User 14', ' Movie 4', 3.678), ('User 14', ' Movie 8', 2.653), ('User 14', ' Movie 9', 3.493), ('User 14', ' Movie 16', 3.748), ('User 14', ' Movie 26', 4.498), ('User 15', ' Movie 6', 2.998), ('User 15', ' Movie 11', 3.358), ('User 15', ' Movie 12', 3.532), ('User 15', ' Movie 20', 3.73), ('User 15', ' Movie 27', 2.002), ('User 15', ' Movie 28', 2.984), ('User 16', ' Movie 8', 2.0), ('User 16', ' Movie 12', 2.5), ('User 16', ' Movie 24', 3.5), ('User 17', ' Movie 3', 2.996), ('User 17', ' Movie 4', 3.669), ('User 17', ' Movie 7', 4.667), ('User 17', ' Movie 8', 3.247), ('User 17', ' Movie 11', 4.002), ('User 17', ' Movie 12', 4.002), ('User 17', ' Movie 18', 4.333), ('User 17', ' Movie 26', 3.501), ('User 18', ' Movie 11', 2.66), ('User 18', ' Movie 21', 3.3400000000000003), ('User 18', ' Movie 29', 3.677), ('User 19', ' Movie 7', 3.0), ('User 19', ' Movie 8', 2.501), ('User 19', ' Movie 13', 2.995), ('User 19', ' Movie 17', 4.0), ('User 19', ' Movie 18', 3.004), ('User 19', ' Movie 25', 1.755), ('User 20', ' Movie 2', 4.01), ('User 20', ' Movie 5', 3.657), ('User 20', ' Movie 6', 3.3409999999999997), ('User 20', ' Movie 8', 2.513), ('User 20', ' Movie 10', 2.9859999999999998), ('User 20', ' Movie 17', 4.0), ('User 20', ' Movie 21', 2.492), ('User 20', ' Movie 25', 1.753), ('User 21', ' Movie 1', 4.0), ('User 21', ' Movie 18', 3.038), ('User 21', ' Movie 19', 3.222), ('User 21', ' Movie 21', 2.0), ('User 21', ' Movie 30', 2.467), ('User 22', ' Movie 4', 3.665), ('User 22', ' Movie 6', 2.751), ('User 22', ' Movie 17', 1.334), ('User 22', ' Movie 18', 3.998), ('User 22', ' Movie 24', 3.499), ('User 22', ' Movie 25', 2.668), ('User 22', ' Movie 30', 2.999), ('User 23', ' Movie 3', 3.747), ('User 23', ' Movie 6', 3.251), ('User 23', ' Movie 7', 3.752), ('User 23', ' Movie 9', 2.672), ('User 23', ' Movie 21', 3.665), ('User 23', ' Movie 22', 4.338), ('User 23', ' Movie 26', 3.341), ('User 24', ' Movie 4', 4.5), ('User 24', ' Movie 12', 5.0), ('User 24', ' Movie 19', 2.25), ('User 25', ' Movie 3', 3.75), ('User 25', ' Movie 6', 3.75), ('User 25', ' Movie 15', 2.25), ('User 25', ' Movie 22', 5.0), ('User 25', ' Movie 26', 3.3339999999999996), ('User 26', ' Movie 3', 2.475), ('User 26', ' Movie 5', 3.0), ('User 26', ' Movie 8', 3.214), ('User 26', ' Movie 26', 4.492), ('User 26', ' Movie 30', 2.4739999999999998), ('User 27', ' Movie 4', 3.0), ('User 27', ' Movie 10', 2.248), ('User 27', ' Movie 14', 3.999), ('User 27', ' Movie 17', 1.999), ('User 27', ' Movie 21', 3.335), ('User 27', ' Movie 25', 2.6670000000000003), ('User 28', ' Movie 1', 3.016), ('User 28', ' Movie 2', 4.67), ('User 28', ' Movie 9', 2.338), ('User 28', ' Movie 11', 3.981), ('User 29', ' Movie 11', 4.667), ('User 29', ' Movie 17', 2.5010000000000003), ('User 29', ' Movie 22', 3.999), ('User 29', ' Movie 28', 2.5), ('User 29', ' Movie 30', 3.5010000000000003), ('User 30', ' Movie 13', 3.0), ('User 30', ' Movie 14', 3.9989999999999997), ('User 31', ' Movie 13', 2.9859999999999998), ('User 31', ' Movie 17', 2.252), ('User 31', ' Movie 30', 3.332), ('User 32', ' Movie 10', 2.333), ('User 32', ' Movie 23', 2.507), ('User 32', ' Movie 30', 3.998), ('User 33', ' Movie 14', 2.9970000000000003), ('User 33', ' Movie 15', 2.351), ('User 33', ' Movie 19', 2.245), ('User 33', ' Movie 26', 3.753), ('User 34', ' Movie 1', 1.9989999999999999), ('User 34', ' Movie 3', 1.9939999999999998), ('User 34', ' Movie 4', 3.3449999999999998), ('User 34', ' Movie 6', 2.5), ('User 34', ' Movie 19', 2.2479999999999998), ('User 34', ' Movie 24', 1.9999999999999998), ('User 35', ' Movie 2', 2.5), ('User 35', ' Movie 11', 3.3329999999999997), ('User 35', ' Movie 15', 2.0), ('User 35', ' Movie 17', 2.0), ('User 35', ' Movie 19', 3.25), ('User 35', ' Movie 20', 3.0), ('User 35', ' Movie 28', 1.75), ('User 36', ' Movie 3', 2.644), ('User 36', ' Movie 16', 3.495), ('User 36', ' Movie 17', 3.5), ('User 36', ' Movie 18', 2.356), ('User 36', ' Movie 20', 3.237), ('User 36', ' Movie 21', 2.328), ('User 37', ' Movie 1', 3.757), ('User 37', ' Movie 3', 2.498), ('User 37', ' Movie 13', 5.0), ('User 37', ' Movie 23', 1.67), ('User 37', ' Movie 25', 2.001), ('User 37', ' Movie 30', 3.008), ('User 38', ' Movie 2', 3.335), ('User 38', ' Movie 8', 2.489), ('User 38', ' Movie 12', 5.0), ('User 38', ' Movie 24', 3.0), ('User 38', ' Movie 28', 3.74), ('User 38', ' Movie 29', 2.01), ('User 39', ' Movie 2', 3.0), ('User 39', ' Movie 4', 4.0), ('User 39', ' Movie 8', 2.333), ('User 39', ' Movie 14', 3.5), ('User 39', ' Movie 15', 4.0), ('User 40', ' Movie 1', 4.666), ('User 40', ' Movie 6', 3.5020000000000002), ('User 40', ' Movie 9', 3.001)]\n"
     ]
    }
   ],
   "source": [
    "import csv\n",
    "import json\n",
    "import math\n",
    "from operator import itemgetter\n",
    "\n",
    "cday = []\n",
    "with open(\"context_day.csv\") as csvfile:\n",
    "    reader = csv.reader(csvfile)\n",
    "    for row in reader:\n",
    "        cday.append(row)\n",
    "cplace = []\n",
    "with open(\"context_place.csv\") as csvfile:\n",
    "    reader = csv.reader(csvfile)\n",
    "    for row in reader:\n",
    "        cplace.append(row)\n",
    "data = []\n",
    "with open(\"data.csv\") as csvfile:\n",
    "    reader = csv.reader(csvfile)\n",
    "    for row in reader:\n",
    "        data.append(row)\n",
    "result=[]\n",
    "for i in range(1,41):\n",
    "    #Вычисление среднего арифметического\n",
    "    sr=0\n",
    "    c=0\n",
    "    for m in range(1,31):\n",
    "        if(int(data[i][m])!=-1):\n",
    "            c=c+1\n",
    "            sr+=int(data[i][m])\n",
    "    sr=round(sr/c,3)\n",
    "    print(\"Среднее значение\",data[i][0],sr)\n",
    "    #Составление метрики сходства\n",
    "    sim=[]\n",
    "    sumuv=0 # Вверхняя сумма \n",
    "    sumuu=0 # Нижняя сумма 1\n",
    "    sumvv=0 # Нижняя сумма 2\n",
    "    for z in range(1,41):\n",
    "        if(z!=i):\n",
    "            for m in range(1,31):\n",
    "                if(int(data[i][m])!=-1 and int(data[z][m])!=-1):\n",
    "                    sumuv=sumuv+int(data[i][m])*int(data[z][m])\n",
    "                    sumuu=sumuu+int(data[i][m])**2\n",
    "                    sumvv=sumvv+int(data[z][m])**2\n",
    "            sim.append((z,round((sumuv/(math.sqrt(sumuu)*math.sqrt(sumvv))),3)))\n",
    "    sim=sorted(sim,key=itemgetter(1),reverse=True)[:4]\n",
    "    #print(sim)\n",
    "    #Move\n",
    "    for m in range(1,31):\n",
    "        #Поиск значения для которого нужно рассчитать\n",
    "        sumup=0\n",
    "        sumdwn=0\n",
    "        if(int(data[i][m])==-1):\n",
    "            for k,_ in enumerate(sim):\n",
    "                if(int(data[sim[k][0]][m])!=-1):\n",
    "                    sumup=sumup+sim[k][1]*(int(data[sim[k][0]][m])-sr)\n",
    "                    sumdwn=sumdwn+sim[k][1]\n",
    "            #print(data[i][0],data[0][m],sumup,sumdwn,sr+round(sumup+sumdwn,3))\n",
    "            result.append((data[i][0],data[0][m],sr+round(sumup/sumdwn,3)))\n",
    "print(result)\n",
    "            \n",
    "        \n",
    "\n"
   ]
  },
  {
   "cell_type": "code",
   "execution_count": 6,
   "metadata": {},
   "outputs": [
    {
     "name": "stdout",
     "output_type": "stream",
     "text": [
      "2\n",
      "3\n",
      "4\n",
      "5\n",
      "6\n"
     ]
    }
   ],
   "source": [
    "my_list = [2, 3, 4, 5, 6]\n",
    "for _,v in enumerate(my_list):\n",
    "    print(v)"
   ]
  },
  {
   "cell_type": "code",
   "execution_count": null,
   "metadata": {},
   "outputs": [],
   "source": []
  }
 ],
 "metadata": {
  "kernelspec": {
   "display_name": "Python 3",
   "language": "python",
   "name": "python3"
  },
  "language_info": {
   "codemirror_mode": {
    "name": "ipython",
    "version": 3
   },
   "file_extension": ".py",
   "mimetype": "text/x-python",
   "name": "python",
   "nbconvert_exporter": "python",
   "pygments_lexer": "ipython3",
   "version": "3.7.4"
  }
 },
 "nbformat": 4,
 "nbformat_minor": 4
}
