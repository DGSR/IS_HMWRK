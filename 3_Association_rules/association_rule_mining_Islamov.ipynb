{
 "cells": [
  {
   "cell_type": "markdown",
   "metadata": {},
   "source": [
    "# Association rule mining"
   ]
  },
  {
   "cell_type": "code",
   "execution_count": 2,
   "metadata": {},
   "outputs": [],
   "source": [
    "import numpy as np\n",
    "import pandas as pd\n",
    "from mlxtend.frequent_patterns import apriori, association_rules"
   ]
  },
  {
   "cell_type": "markdown",
   "metadata": {},
   "source": [
    "### Mlxtend (machine learning extensions) \n",
    "\n",
    "Python library of useful tools for the day-to-day data science tasks.\n",
    "\n",
    "http://rasbt.github.io/mlxtend/api_subpackages/mlxtend.frequent_patterns/"
   ]
  },
  {
   "cell_type": "markdown",
   "metadata": {},
   "source": [
    "### Load data"
   ]
  },
  {
   "cell_type": "code",
   "execution_count": 58,
   "metadata": {},
   "outputs": [],
   "source": [
    "data = pd.read_csv(\"supermarket_short.csv\")"
   ]
  },
  {
   "cell_type": "markdown",
   "metadata": {},
   "source": [
    "### Find frequent itemsets and rules"
   ]
  },
  {
   "cell_type": "code",
   "execution_count": 55,
   "metadata": {},
   "outputs": [],
   "source": [
    "frequent_itemsets = apriori(data, min_support=0.25, use_colnames=True)\n",
    "\n",
    "rules = association_rules(frequent_itemsets, metric=\"conviction\", min_threshold=1.176)"
   ]
  },
  {
   "cell_type": "markdown",
   "metadata": {},
   "source": [
    "### Add antecedent lenght column"
   ]
  },
  {
   "cell_type": "code",
   "execution_count": 56,
   "metadata": {},
   "outputs": [],
   "source": [
    "rules[\"antecedent_len\"] = rules[\"antecedents\"].apply(lambda x: len(x))\n",
    "rules[\"consequent_len\"] = rules[\"consequents\"].apply(lambda x: len(x))"
   ]
  },
  {
   "cell_type": "markdown",
   "metadata": {},
   "source": [
    "### Filter rules"
   ]
  },
  {
   "cell_type": "code",
   "execution_count": 57,
   "metadata": {},
   "outputs": [
    {
     "data": {
      "text/html": [
       "<div>\n",
       "<style scoped>\n",
       "    .dataframe tbody tr th:only-of-type {\n",
       "        vertical-align: middle;\n",
       "    }\n",
       "\n",
       "    .dataframe tbody tr th {\n",
       "        vertical-align: top;\n",
       "    }\n",
       "\n",
       "    .dataframe thead th {\n",
       "        text-align: right;\n",
       "    }\n",
       "</style>\n",
       "<table border=\"1\" class=\"dataframe\">\n",
       "  <thead>\n",
       "    <tr style=\"text-align: right;\">\n",
       "      <th></th>\n",
       "      <th>antecedents</th>\n",
       "      <th>consequents</th>\n",
       "      <th>antecedent support</th>\n",
       "      <th>consequent support</th>\n",
       "      <th>support</th>\n",
       "      <th>confidence</th>\n",
       "      <th>lift</th>\n",
       "      <th>leverage</th>\n",
       "      <th>conviction</th>\n",
       "      <th>antecedent_len</th>\n",
       "      <th>consequent_len</th>\n",
       "    </tr>\n",
       "  </thead>\n",
       "  <tbody>\n",
       "    <tr>\n",
       "      <th>73</th>\n",
       "      <td>(party snack foods)</td>\n",
       "      <td>(soft drinks)</td>\n",
       "      <td>0.503566</td>\n",
       "      <td>0.408040</td>\n",
       "      <td>0.251135</td>\n",
       "      <td>0.498712</td>\n",
       "      <td>1.222215</td>\n",
       "      <td>0.045660</td>\n",
       "      <td>1.180880</td>\n",
       "      <td>1</td>\n",
       "      <td>1</td>\n",
       "    </tr>\n",
       "    <tr>\n",
       "      <th>5</th>\n",
       "      <td>(confectionary)</td>\n",
       "      <td>(bread and cake)</td>\n",
       "      <td>0.365247</td>\n",
       "      <td>0.719689</td>\n",
       "      <td>0.278366</td>\n",
       "      <td>0.762130</td>\n",
       "      <td>1.058972</td>\n",
       "      <td>0.015502</td>\n",
       "      <td>1.178423</td>\n",
       "      <td>1</td>\n",
       "      <td>1</td>\n",
       "    </tr>\n",
       "    <tr>\n",
       "      <th>289</th>\n",
       "      <td>(frozen foods)</td>\n",
       "      <td>(vegetables, biscuits)</td>\n",
       "      <td>0.587206</td>\n",
       "      <td>0.381241</td>\n",
       "      <td>0.278798</td>\n",
       "      <td>0.474788</td>\n",
       "      <td>1.245377</td>\n",
       "      <td>0.054932</td>\n",
       "      <td>1.178115</td>\n",
       "      <td>1</td>\n",
       "      <td>2</td>\n",
       "    </tr>\n",
       "    <tr>\n",
       "      <th>71</th>\n",
       "      <td>(tissues-paper prd)</td>\n",
       "      <td>(party snack foods)</td>\n",
       "      <td>0.485628</td>\n",
       "      <td>0.503566</td>\n",
       "      <td>0.280960</td>\n",
       "      <td>0.578549</td>\n",
       "      <td>1.148904</td>\n",
       "      <td>0.036414</td>\n",
       "      <td>1.177917</td>\n",
       "      <td>1</td>\n",
       "      <td>1</td>\n",
       "    </tr>\n",
       "    <tr>\n",
       "      <th>37</th>\n",
       "      <td>(tissues-paper prd)</td>\n",
       "      <td>(juice-sat-cord-ms)</td>\n",
       "      <td>0.485628</td>\n",
       "      <td>0.532310</td>\n",
       "      <td>0.292630</td>\n",
       "      <td>0.602581</td>\n",
       "      <td>1.132011</td>\n",
       "      <td>0.034125</td>\n",
       "      <td>1.176818</td>\n",
       "      <td>1</td>\n",
       "      <td>1</td>\n",
       "    </tr>\n",
       "    <tr>\n",
       "      <th>202</th>\n",
       "      <td>(tissues-paper prd)</td>\n",
       "      <td>(fruit, bread and cake)</td>\n",
       "      <td>0.485628</td>\n",
       "      <td>0.502485</td>\n",
       "      <td>0.280311</td>\n",
       "      <td>0.577214</td>\n",
       "      <td>1.148718</td>\n",
       "      <td>0.036290</td>\n",
       "      <td>1.176753</td>\n",
       "      <td>1</td>\n",
       "      <td>2</td>\n",
       "    </tr>\n",
       "    <tr>\n",
       "      <th>27</th>\n",
       "      <td>(baking needs)</td>\n",
       "      <td>(tissues-paper prd)</td>\n",
       "      <td>0.604063</td>\n",
       "      <td>0.485628</td>\n",
       "      <td>0.339961</td>\n",
       "      <td>0.562791</td>\n",
       "      <td>1.158893</td>\n",
       "      <td>0.046611</td>\n",
       "      <td>1.176490</td>\n",
       "      <td>1</td>\n",
       "      <td>1</td>\n",
       "    </tr>\n",
       "    <tr>\n",
       "      <th>298</th>\n",
       "      <td>(fruit)</td>\n",
       "      <td>(vegetables, biscuits)</td>\n",
       "      <td>0.640156</td>\n",
       "      <td>0.381241</td>\n",
       "      <td>0.303436</td>\n",
       "      <td>0.474004</td>\n",
       "      <td>1.243320</td>\n",
       "      <td>0.059383</td>\n",
       "      <td>1.176358</td>\n",
       "      <td>1</td>\n",
       "      <td>2</td>\n",
       "    </tr>\n",
       "  </tbody>\n",
       "</table>\n",
       "</div>"
      ],
      "text/plain": [
       "             antecedents              consequents  antecedent support  \\\n",
       "73   (party snack foods)            (soft drinks)            0.503566   \n",
       "5        (confectionary)         (bread and cake)            0.365247   \n",
       "289       (frozen foods)   (vegetables, biscuits)            0.587206   \n",
       "71   (tissues-paper prd)      (party snack foods)            0.485628   \n",
       "37   (tissues-paper prd)      (juice-sat-cord-ms)            0.485628   \n",
       "202  (tissues-paper prd)  (fruit, bread and cake)            0.485628   \n",
       "27        (baking needs)      (tissues-paper prd)            0.604063   \n",
       "298              (fruit)   (vegetables, biscuits)            0.640156   \n",
       "\n",
       "     consequent support   support  confidence      lift  leverage  conviction  \\\n",
       "73             0.408040  0.251135    0.498712  1.222215  0.045660    1.180880   \n",
       "5              0.719689  0.278366    0.762130  1.058972  0.015502    1.178423   \n",
       "289            0.381241  0.278798    0.474788  1.245377  0.054932    1.178115   \n",
       "71             0.503566  0.280960    0.578549  1.148904  0.036414    1.177917   \n",
       "37             0.532310  0.292630    0.602581  1.132011  0.034125    1.176818   \n",
       "202            0.502485  0.280311    0.577214  1.148718  0.036290    1.176753   \n",
       "27             0.485628  0.339961    0.562791  1.158893  0.046611    1.176490   \n",
       "298            0.381241  0.303436    0.474004  1.243320  0.059383    1.176358   \n",
       "\n",
       "     antecedent_len  consequent_len  \n",
       "73                1               1  \n",
       "5                 1               1  \n",
       "289               1               2  \n",
       "71                1               1  \n",
       "37                1               1  \n",
       "202               1               2  \n",
       "27                1               1  \n",
       "298               1               2  "
      ]
     },
     "execution_count": 57,
     "metadata": {},
     "output_type": "execute_result"
    }
   ],
   "source": [
    "rules[ (rules['antecedent_len'] == 1) &\n",
    "      (rules['consequent_len'] <= 2) &\n",
    "      (rules['confidence'] > 0.46) &\n",
    "      (rules['conviction']<1.181) &\n",
    "      (rules['lift'] > 0.020)].sort_values(by=['conviction'],ascending=False)"
   ]
  },
  {
   "cell_type": "markdown",
   "metadata": {},
   "source": [
    "<p style=\"font-size:large\">Результат такой же, только сортировка другая, непонятно как она работает в Weka 🤔</p>"
   ]
  }
 ],
 "metadata": {
  "kernelspec": {
   "display_name": "Python 3",
   "language": "python",
   "name": "python3"
  },
  "language_info": {
   "codemirror_mode": {
    "name": "ipython",
    "version": 3
   },
   "file_extension": ".py",
   "mimetype": "text/x-python",
   "name": "python",
   "nbconvert_exporter": "python",
   "pygments_lexer": "ipython3",
   "version": "3.7.4"
  }
 },
 "nbformat": 4,
 "nbformat_minor": 4
}
